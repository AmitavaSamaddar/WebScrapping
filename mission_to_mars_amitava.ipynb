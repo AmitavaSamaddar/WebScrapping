{
 "cells": [
  {
   "cell_type": "code",
   "execution_count": 237,
   "metadata": {},
   "outputs": [],
   "source": [
    "from splinter import Browser\n",
    "from bs4 import BeautifulSoup\n",
    "import pandas as pd\n",
    "import time"
   ]
  },
  {
   "cell_type": "code",
   "execution_count": 239,
   "metadata": {},
   "outputs": [],
   "source": [
    " executable_path = {'executable_path': 'drivers/chromedriver.exe'}\n",
    " browser = Browser('chrome', **executable_path, headless=False)"
   ]
  },
  {
   "cell_type": "code",
   "execution_count": 240,
   "metadata": {},
   "outputs": [],
   "source": [
    "base_url = 'https://mars.nasa.gov/news/'\n",
    "img_url = 'https://www.jpl.nasa.gov/spaceimages/?search=&category=Mars'\n",
    "img_url_base = 'https://www.jpl.nasa.gov'\n",
    "twitter_url = 'https://twitter.com/marswxreport?lang=en'\n",
    "facts_url = 'http://space-facts.com/mars/'\n",
    "hemi_url = 'https://astrogeology.usgs.gov/search/results?q=hemisphere+enhanced&k1=target&v1=Mars'"
   ]
  },
  {
   "cell_type": "code",
   "execution_count": 252,
   "metadata": {},
   "outputs": [],
   "source": [
    "#Visiting main page\n",
    "browser.visit(base_url)\n",
    "html = browser.html\n",
    "\n",
    "#Getting data\n",
    "soup = BeautifulSoup(html, \"html.parser\")"
   ]
  },
  {
   "cell_type": "code",
   "execution_count": 253,
   "metadata": {},
   "outputs": [
    {
     "name": "stdout",
     "output_type": "stream",
     "text": [
      "After a Reset, Curiosity Is Operating Normally\n"
     ]
    }
   ],
   "source": [
    "#Getting the 1st title\n",
    "title = soup.find('div', class_='content_title')\n",
    "news_title = title.text\n",
    "print(news_title)"
   ]
  },
  {
   "cell_type": "code",
   "execution_count": 254,
   "metadata": {},
   "outputs": [
    {
     "name": "stdout",
     "output_type": "stream",
     "text": [
      "NASA's Mars rover Curiosity is in good health but takes a short break while engineers diagnose why it reset its computer. \n"
     ]
    }
   ],
   "source": [
    "#Getting paragraph text from 1st title\n",
    "para = soup.find('div', class_='article_teaser_body')\n",
    "news_p = para.text\n",
    "print(news_p)"
   ]
  },
  {
   "cell_type": "code",
   "execution_count": 255,
   "metadata": {},
   "outputs": [],
   "source": [
    "#Visiting URL to get the image\n",
    "browser.visit(img_url)\n",
    "#Clicking on 'Full Image'\n",
    "browser.click_link_by_partial_text('FULL IMAGE')\n",
    "time.sleep(1)"
   ]
  },
  {
   "cell_type": "code",
   "execution_count": 256,
   "metadata": {},
   "outputs": [],
   "source": [
    "#Clicking on 'More Info'\n",
    "browser.click_link_by_partial_text('more info')\n",
    "time.sleep(1)"
   ]
  },
  {
   "cell_type": "code",
   "execution_count": 257,
   "metadata": {},
   "outputs": [
    {
     "name": "stdout",
     "output_type": "stream",
     "text": [
      "<img alt=\"What's that bright point of light in the outer A ring? It's a star, bright enough to be visible through the ring as seen by NASA's Cassini spacecraft.\" class=\"main_image\" src=\"/spaceimages/images/largesize/PIA18297_hires.jpg\" title=\"What's that bright point of light in the outer A ring? It's a star, bright enough to be visible through the ring as seen by NASA's Cassini spacecraft.\"/>\n"
     ]
    }
   ],
   "source": [
    "#Getting data\n",
    "soup = BeautifulSoup(browser.html, \"html.parser\")\n",
    "#Image daa\n",
    "image = soup.find('img', class_='main_image')\n",
    "print(image)"
   ]
  },
  {
   "cell_type": "code",
   "execution_count": 258,
   "metadata": {},
   "outputs": [
    {
     "name": "stdout",
     "output_type": "stream",
     "text": [
      "https://www.jpl.nasa.gov/spaceimages/images/largesize/PIA18297_hires.jpg\n"
     ]
    }
   ],
   "source": [
    "#Image URL\n",
    "featured_image_url = img_url_base + image[\"src\"]\n",
    "print(featured_image_url)"
   ]
  },
  {
   "cell_type": "code",
   "execution_count": 259,
   "metadata": {},
   "outputs": [],
   "source": [
    "#Getting data from Twitter page\n",
    "browser.visit(twitter_url)\n",
    "soup = BeautifulSoup(browser.html, \"html.parser\")"
   ]
  },
  {
   "cell_type": "code",
   "execution_count": 260,
   "metadata": {},
   "outputs": [
    {
     "name": "stdout",
     "output_type": "stream",
     "text": [
      "InSight sol 88 (2019-02-25) low -95.2ºC (-139.4ºF) high -17.8ºC (0.0ºF)\n",
      "winds from the SW at 5.2 m/s (11.6 mph) gusting to 19.8 m/s (44.3 mph)\n",
      "pressure at 7.20 hPapic.twitter.com/1msjBvhiu7\n"
     ]
    }
   ],
   "source": [
    "#Getting the tweet\n",
    "tweet = soup.find('p', class_='tweet-text')\n",
    "mars_weather = tweet.text\n",
    "print(mars_weather)"
   ]
  },
  {
   "cell_type": "code",
   "execution_count": 261,
   "metadata": {},
   "outputs": [
    {
     "name": "stdout",
     "output_type": "stream",
     "text": [
      "https://mars.nasa.gov/news/8415/insight-is-the-newest-mars-weather-service/\n"
     ]
    }
   ],
   "source": [
    "#Curiosity was not working, so taken alternative route to get the data apart from daily tweet\n",
    "#Searching for the URL to go to insight page\n",
    "w_list = soup.find_all('a', class_=\"u-textUserColor\")\n",
    "\n",
    "for w in w_list:\n",
    "    if w.text.strip() == \"mars.nasa.gov/news/8415/insi…\":\n",
    "        weather_url = w[\"title\"]\n",
    "        \n",
    "print(weather_url)"
   ]
  },
  {
   "cell_type": "code",
   "execution_count": 262,
   "metadata": {},
   "outputs": [
    {
     "name": "stdout",
     "output_type": "stream",
     "text": [
      "https://mars.nasa.gov/insight/weather/\n"
     ]
    }
   ],
   "source": [
    "#Getting into Weather insight page\n",
    "browser.visit(weather_url)\n",
    "soup = BeautifulSoup(browser.html, \"html.parser\")\n",
    "\n",
    "find_url = soup.find('a', text='a daily weather report')\n",
    "\n",
    "weather_url_final = find_url[\"href\"]\n",
    "\n",
    "print(weather_url_final)"
   ]
  },
  {
   "cell_type": "code",
   "execution_count": 263,
   "metadata": {},
   "outputs": [],
   "source": [
    "#Getting into Final Weather page\n",
    "browser.visit(weather_url_final)\n",
    "soup = BeautifulSoup(browser.html, \"html.parser\")\n"
   ]
  },
  {
   "cell_type": "code",
   "execution_count": 270,
   "metadata": {},
   "outputs": [
    {
     "name": "stdout",
     "output_type": "stream",
     "text": [
      "Sol 88\n"
     ]
    }
   ],
   "source": [
    "#Getting the latest Sol\n",
    "data = soup.find_all('span', class_='dateSol')\n",
    "mars_weather = data[-1].text\n",
    "print(mars_weather)"
   ]
  },
  {
   "cell_type": "code",
   "execution_count": 271,
   "metadata": {},
   "outputs": [
    {
     "name": "stdout",
     "output_type": "stream",
     "text": [
      "Insight Sol 88 (Feb. 24, 2019)\n"
     ]
    }
   ],
   "source": [
    "#Getting the date and adding to the text\n",
    "sol_table = soup.find_all('th', class_=\"sol\")\n",
    "mars_weather = \"Insight \" + mars_weather + \" (\" + sol_table[2].text + \")\"\n",
    "print(mars_weather)"
   ]
  },
  {
   "cell_type": "code",
   "execution_count": 272,
   "metadata": {},
   "outputs": [
    {
     "name": "stdout",
     "output_type": "stream",
     "text": [
      "Insight Sol 88 (Feb. 24, 2019);  Temp: High -18° C/0° F, Low -95° C/-139° F\n"
     ]
    }
   ],
   "source": [
    "#Getting the temparatures\n",
    "f_table = soup.find_all('span', class_=\"fahrenheit\")\n",
    "c_table = soup.find_all('span', class_=\"celsius\")\n",
    "mars_weather = mars_weather + \";  Temp: High \" + c_table[2].text + \"/\" + f_table[2].text + \", Low \" + c_table[4].text + \"/\" + f_table[4].text\n",
    "print(mars_weather)"
   ]
  },
  {
   "cell_type": "code",
   "execution_count": 273,
   "metadata": {},
   "outputs": [
    {
     "name": "stdout",
     "output_type": "stream",
     "text": [
      "Insight Sol 88 (Feb. 24, 2019);  Temp: High -18° C/0° F, Low -95° C/-139° F; Wind Speed: Max 19.8/44.3, Min 0.4/0.8, Direction WNW\n"
     ]
    }
   ],
   "source": [
    "#Getting the wind speed\n",
    "mph_table = soup.find_all('span', class_=\"mph\")\n",
    "mps_table = soup.find_all('span', class_=\"mps\")\n",
    "wind_direction = soup.find('td', class_=\"windspeed point\")\n",
    "mars_weather = mars_weather + \"; Wind Speed: Max \" + mps_table[0].text + \"/\" + mph_table[0].text + \", Min \" + mps_table[2].text + \"/\" + mph_table[2].text + \", Direction \" + wind_direction.text\n",
    "print(mars_weather)"
   ]
  },
  {
   "cell_type": "code",
   "execution_count": 274,
   "metadata": {},
   "outputs": [
    {
     "name": "stdout",
     "output_type": "stream",
     "text": [
      "Insight Sol 88 (Feb. 24, 2019);  Temp: High -18° C/0° F, Low -95° C/-139° F; Wind Speed: Max 19.8/44.3, Min 0.4/0.8, Direction WNW; Average Pressure 724.3 Pa\n"
     ]
    }
   ],
   "source": [
    "#Getting the avg pressure\n",
    "avg_pressure = soup.find_all('td', class_=\"pressure avg\")\n",
    "mars_weather = mars_weather + \"; Average Pressure \" + avg_pressure[1].text + \" Pa\"\n",
    "\n",
    "#Final Mars Weather statement from alternate source -\n",
    "print(mars_weather)"
   ]
  },
  {
   "cell_type": "code",
   "execution_count": 275,
   "metadata": {},
   "outputs": [
    {
     "data": {
      "text/html": [
       "<div>\n",
       "<style scoped>\n",
       "    .dataframe tbody tr th:only-of-type {\n",
       "        vertical-align: middle;\n",
       "    }\n",
       "\n",
       "    .dataframe tbody tr th {\n",
       "        vertical-align: top;\n",
       "    }\n",
       "\n",
       "    .dataframe thead th {\n",
       "        text-align: right;\n",
       "    }\n",
       "</style>\n",
       "<table border=\"1\" class=\"dataframe\">\n",
       "  <thead>\n",
       "    <tr style=\"text-align: right;\">\n",
       "      <th></th>\n",
       "      <th>Items</th>\n",
       "      <th>Values</th>\n",
       "    </tr>\n",
       "  </thead>\n",
       "  <tbody>\n",
       "    <tr>\n",
       "      <th>0</th>\n",
       "      <td>Equatorial Diameter:</td>\n",
       "      <td>6,792 km</td>\n",
       "    </tr>\n",
       "    <tr>\n",
       "      <th>1</th>\n",
       "      <td>Polar Diameter:</td>\n",
       "      <td>6,752 km</td>\n",
       "    </tr>\n",
       "    <tr>\n",
       "      <th>2</th>\n",
       "      <td>Mass:</td>\n",
       "      <td>6.42 x 10^23 kg (10.7% Earth)</td>\n",
       "    </tr>\n",
       "    <tr>\n",
       "      <th>3</th>\n",
       "      <td>Moons:</td>\n",
       "      <td>2 (Phobos &amp; Deimos)</td>\n",
       "    </tr>\n",
       "    <tr>\n",
       "      <th>4</th>\n",
       "      <td>Orbit Distance:</td>\n",
       "      <td>227,943,824 km (1.52 AU)</td>\n",
       "    </tr>\n",
       "    <tr>\n",
       "      <th>5</th>\n",
       "      <td>Orbit Period:</td>\n",
       "      <td>687 days (1.9 years)</td>\n",
       "    </tr>\n",
       "    <tr>\n",
       "      <th>6</th>\n",
       "      <td>Surface Temperature:</td>\n",
       "      <td>-153 to 20 °C</td>\n",
       "    </tr>\n",
       "    <tr>\n",
       "      <th>7</th>\n",
       "      <td>First Record:</td>\n",
       "      <td>2nd millennium BC</td>\n",
       "    </tr>\n",
       "    <tr>\n",
       "      <th>8</th>\n",
       "      <td>Recorded By:</td>\n",
       "      <td>Egyptian astronomers</td>\n",
       "    </tr>\n",
       "  </tbody>\n",
       "</table>\n",
       "</div>"
      ],
      "text/plain": [
       "                  Items                         Values\n",
       "0  Equatorial Diameter:                       6,792 km\n",
       "1       Polar Diameter:                       6,752 km\n",
       "2                 Mass:  6.42 x 10^23 kg (10.7% Earth)\n",
       "3                Moons:            2 (Phobos & Deimos)\n",
       "4       Orbit Distance:       227,943,824 km (1.52 AU)\n",
       "5         Orbit Period:           687 days (1.9 years)\n",
       "6  Surface Temperature:                  -153 to 20 °C\n",
       "7         First Record:              2nd millennium BC\n",
       "8          Recorded By:           Egyptian astronomers"
      ]
     },
     "execution_count": 275,
     "metadata": {},
     "output_type": "execute_result"
    }
   ],
   "source": [
    "#Getting Mars Facts\n",
    "facts = pd.read_html(fact_url)\n",
    "df_facts = facts[0]\n",
    "df_facts.columns = [\"Items\", \"Values\"]\n",
    "df_facts"
   ]
  },
  {
   "cell_type": "code",
   "execution_count": 276,
   "metadata": {},
   "outputs": [
    {
     "data": {
      "text/plain": [
       "'<table border=\"1\" class=\"dataframe\">  <thead>    <tr style=\"text-align: right;\">      <th></th>      <th>Items</th>      <th>Values</th>    </tr>  </thead>  <tbody>    <tr>      <th>0</th>      <td>Equatorial Diameter:</td>      <td>6,792 km</td>    </tr>    <tr>      <th>1</th>      <td>Polar Diameter:</td>      <td>6,752 km</td>    </tr>    <tr>      <th>2</th>      <td>Mass:</td>      <td>6.42 x 10^23 kg (10.7% Earth)</td>    </tr>    <tr>      <th>3</th>      <td>Moons:</td>      <td>2 (Phobos &amp; Deimos)</td>    </tr>    <tr>      <th>4</th>      <td>Orbit Distance:</td>      <td>227,943,824 km (1.52 AU)</td>    </tr>    <tr>      <th>5</th>      <td>Orbit Period:</td>      <td>687 days (1.9 years)</td>    </tr>    <tr>      <th>6</th>      <td>Surface Temperature:</td>      <td>-153 to 20 °C</td>    </tr>    <tr>      <th>7</th>      <td>First Record:</td>      <td>2nd millennium BC</td>    </tr>    <tr>      <th>8</th>      <td>Recorded By:</td>      <td>Egyptian astronomers</td>    </tr>  </tbody></table>'"
      ]
     },
     "execution_count": 276,
     "metadata": {},
     "output_type": "execute_result"
    }
   ],
   "source": [
    "#Creating HTML Table\n",
    "facts_html = df_facts.to_html()\n",
    "facts_html = facts_html.replace('\\n', '')\n",
    "facts_html"
   ]
  },
  {
   "cell_type": "code",
   "execution_count": 277,
   "metadata": {},
   "outputs": [
    {
     "data": {
      "text/plain": [
       "[{'title': 'Cerberus Hemisphere',\n",
       "  'img_url': 'http://astropedia.astrogeology.usgs.gov/download/Mars/Viking/cerberus_enhanced.tif/full.jpg'},\n",
       " {'title': 'Schiaparelli Hemisphere',\n",
       "  'img_url': 'http://astropedia.astrogeology.usgs.gov/download/Mars/Viking/schiaparelli_enhanced.tif/full.jpg'},\n",
       " {'title': 'Syrtis Major Hemisphere',\n",
       "  'img_url': 'http://astropedia.astrogeology.usgs.gov/download/Mars/Viking/syrtis_major_enhanced.tif/full.jpg'},\n",
       " {'title': 'Valles Marineris Hemisphere',\n",
       "  'img_url': 'http://astropedia.astrogeology.usgs.gov/download/Mars/Viking/valles_marineris_enhanced.tif/full.jpg'}]"
      ]
     },
     "execution_count": 277,
     "metadata": {},
     "output_type": "execute_result"
    }
   ],
   "source": [
    "#Getting Hemisphere details\n",
    "#Create empty bucket\n",
    "hemisphere_image_urls = []\n",
    "#Visiting the site and getting data using BeautifulSoup\n",
    "browser.visit(hemi_url)\n",
    "soup = BeautifulSoup(browser.html, 'lxml')\n",
    "#Fetching all items\n",
    "items = soup.find_all(class_='item')\n",
    "\n",
    "for item in items:\n",
    "    browser.visit(hemi_url)\n",
    "    browser.click_link_by_partial_text(item.h3.text)\n",
    "    soup = BeautifulSoup(browser.html, 'lxml')\n",
    "    \n",
    "    title = item.h3.text.replace(' Enhanced', '')\n",
    "    img_url = soup.find(target='_blank')['href']\n",
    "    \n",
    "    hemisphere_image_urls.append({'title':title, 'img_url':img_url})\n",
    "    \n",
    "hemisphere_image_urls\n"
   ]
  },
  {
   "cell_type": "code",
   "execution_count": 278,
   "metadata": {},
   "outputs": [],
   "source": [
    "browser.quit()"
   ]
  }
 ],
 "metadata": {
  "kernelspec": {
   "display_name": "Python 3",
   "language": "python",
   "name": "python3"
  },
  "language_info": {
   "codemirror_mode": {
    "name": "ipython",
    "version": 3
   },
   "file_extension": ".py",
   "mimetype": "text/x-python",
   "name": "python",
   "nbconvert_exporter": "python",
   "pygments_lexer": "ipython3",
   "version": "3.7.0"
  }
 },
 "nbformat": 4,
 "nbformat_minor": 2
}
